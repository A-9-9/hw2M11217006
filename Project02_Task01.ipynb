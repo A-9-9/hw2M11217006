{
 "cells": [
  {
   "cell_type": "code",
   "execution_count": 30,
   "id": "0d8d149c",
   "metadata": {},
   "outputs": [
    {
     "name": "stdout",
     "output_type": "stream",
     "text": [
      "Defaulting to user installation because normal site-packages is not writeable\n",
      "Requirement already satisfied: xgboost in c:\\users\\ken\\appdata\\roaming\\python\\python311\\site-packages (2.0.1)\n",
      "Requirement already satisfied: numpy in c:\\users\\ken\\appdata\\roaming\\python\\python311\\site-packages (from xgboost) (1.26.0)\n",
      "Requirement already satisfied: scipy in c:\\users\\ken\\appdata\\roaming\\python\\python311\\site-packages (from xgboost) (1.11.3)\n"
     ]
    },
    {
     "name": "stderr",
     "output_type": "stream",
     "text": [
      "\n",
      "[notice] A new release of pip is available: 23.1.2 -> 23.3.1\n",
      "[notice] To update, run: python.exe -m pip install --upgrade pip\n"
     ]
    }
   ],
   "source": [
    "!pip install xgboost\n",
    "import time\n",
    "from xgboost.sklearn import XGBRegressor\n",
    "import pandas as pd\n",
    "from sklearn.preprocessing import LabelEncoder, OneHotEncoder, StandardScaler\n",
    "from sklearn.model_selection import train_test_split\n",
    "from sklearn import tree\n",
    "from sklearn.model_selection import cross_val_score\n",
    "import matplotlib.pyplot as plt\n",
    "import numpy as np\n",
    "from sklearn import metrics\n",
    "from sklearn.metrics import mean_absolute_error\n",
    "from sklearn.neighbors import KNeighborsClassifier\n",
    "from sklearn.ensemble import RandomForestRegressor\n",
    "from sklearn.svm import SVR\n",
    "from sklearn.pipeline import make_pipeline"
   ]
  },
  {
   "cell_type": "code",
   "execution_count": 2,
   "id": "dcdc8af9",
   "metadata": {},
   "outputs": [],
   "source": [
    "li = []\n",
    "with open('adult.data') as f:\n",
    "    lines = f.readlines()\n",
    "    for line in lines:\n",
    "        li.append(line[:-1].split(\", \"))\n",
    "\n",
    "df = pd.DataFrame(li)\n"
   ]
  },
  {
   "cell_type": "code",
   "execution_count": 3,
   "id": "3ba29d86",
   "metadata": {},
   "outputs": [],
   "source": [
    "li = []\n",
    "with open('adult.test') as f:\n",
    "    lines = f.readlines()\n",
    "    for line in lines:\n",
    "        li.append(line[:-1].split(\", \"))\n",
    "\n",
    "df_test = pd.DataFrame(li)"
   ]
  },
  {
   "cell_type": "code",
   "execution_count": 4,
   "id": "464f4ac1",
   "metadata": {
    "scrolled": true
   },
   "outputs": [
    {
     "data": {
      "text/html": [
       "<div>\n",
       "<style scoped>\n",
       "    .dataframe tbody tr th:only-of-type {\n",
       "        vertical-align: middle;\n",
       "    }\n",
       "\n",
       "    .dataframe tbody tr th {\n",
       "        vertical-align: top;\n",
       "    }\n",
       "\n",
       "    .dataframe thead th {\n",
       "        text-align: right;\n",
       "    }\n",
       "</style>\n",
       "<table border=\"1\" class=\"dataframe\">\n",
       "  <thead>\n",
       "    <tr style=\"text-align: right;\">\n",
       "      <th></th>\n",
       "      <th>0</th>\n",
       "      <th>1</th>\n",
       "      <th>2</th>\n",
       "      <th>3</th>\n",
       "      <th>4</th>\n",
       "      <th>5</th>\n",
       "      <th>6</th>\n",
       "      <th>7</th>\n",
       "      <th>8</th>\n",
       "      <th>9</th>\n",
       "      <th>10</th>\n",
       "      <th>11</th>\n",
       "      <th>12</th>\n",
       "      <th>13</th>\n",
       "      <th>14</th>\n",
       "    </tr>\n",
       "  </thead>\n",
       "  <tbody>\n",
       "    <tr>\n",
       "      <th>0</th>\n",
       "      <td>25</td>\n",
       "      <td>Private</td>\n",
       "      <td>226802</td>\n",
       "      <td>11th</td>\n",
       "      <td>7</td>\n",
       "      <td>Never-married</td>\n",
       "      <td>Machine-op-inspct</td>\n",
       "      <td>Own-child</td>\n",
       "      <td>Black</td>\n",
       "      <td>Male</td>\n",
       "      <td>0</td>\n",
       "      <td>0</td>\n",
       "      <td>40</td>\n",
       "      <td>United-States</td>\n",
       "      <td>&lt;=50K.</td>\n",
       "    </tr>\n",
       "    <tr>\n",
       "      <th>1</th>\n",
       "      <td>38</td>\n",
       "      <td>Private</td>\n",
       "      <td>89814</td>\n",
       "      <td>HS-grad</td>\n",
       "      <td>9</td>\n",
       "      <td>Married-civ-spouse</td>\n",
       "      <td>Farming-fishing</td>\n",
       "      <td>Husband</td>\n",
       "      <td>White</td>\n",
       "      <td>Male</td>\n",
       "      <td>0</td>\n",
       "      <td>0</td>\n",
       "      <td>50</td>\n",
       "      <td>United-States</td>\n",
       "      <td>&lt;=50K.</td>\n",
       "    </tr>\n",
       "    <tr>\n",
       "      <th>2</th>\n",
       "      <td>28</td>\n",
       "      <td>Local-gov</td>\n",
       "      <td>336951</td>\n",
       "      <td>Assoc-acdm</td>\n",
       "      <td>12</td>\n",
       "      <td>Married-civ-spouse</td>\n",
       "      <td>Protective-serv</td>\n",
       "      <td>Husband</td>\n",
       "      <td>White</td>\n",
       "      <td>Male</td>\n",
       "      <td>0</td>\n",
       "      <td>0</td>\n",
       "      <td>40</td>\n",
       "      <td>United-States</td>\n",
       "      <td>&gt;50K.</td>\n",
       "    </tr>\n",
       "    <tr>\n",
       "      <th>3</th>\n",
       "      <td>44</td>\n",
       "      <td>Private</td>\n",
       "      <td>160323</td>\n",
       "      <td>Some-college</td>\n",
       "      <td>10</td>\n",
       "      <td>Married-civ-spouse</td>\n",
       "      <td>Machine-op-inspct</td>\n",
       "      <td>Husband</td>\n",
       "      <td>Black</td>\n",
       "      <td>Male</td>\n",
       "      <td>7688</td>\n",
       "      <td>0</td>\n",
       "      <td>40</td>\n",
       "      <td>United-States</td>\n",
       "      <td>&gt;50K.</td>\n",
       "    </tr>\n",
       "    <tr>\n",
       "      <th>4</th>\n",
       "      <td>18</td>\n",
       "      <td>?</td>\n",
       "      <td>103497</td>\n",
       "      <td>Some-college</td>\n",
       "      <td>10</td>\n",
       "      <td>Never-married</td>\n",
       "      <td>?</td>\n",
       "      <td>Own-child</td>\n",
       "      <td>White</td>\n",
       "      <td>Female</td>\n",
       "      <td>0</td>\n",
       "      <td>0</td>\n",
       "      <td>30</td>\n",
       "      <td>United-States</td>\n",
       "      <td>&lt;=50K.</td>\n",
       "    </tr>\n",
       "  </tbody>\n",
       "</table>\n",
       "</div>"
      ],
      "text/plain": [
       "   0          1       2             3   4                   5   \\\n",
       "0  25    Private  226802          11th   7       Never-married   \n",
       "1  38    Private   89814       HS-grad   9  Married-civ-spouse   \n",
       "2  28  Local-gov  336951    Assoc-acdm  12  Married-civ-spouse   \n",
       "3  44    Private  160323  Some-college  10  Married-civ-spouse   \n",
       "4  18          ?  103497  Some-college  10       Never-married   \n",
       "\n",
       "                  6          7      8       9     10 11  12             13  \\\n",
       "0  Machine-op-inspct  Own-child  Black    Male     0  0  40  United-States   \n",
       "1    Farming-fishing    Husband  White    Male     0  0  50  United-States   \n",
       "2    Protective-serv    Husband  White    Male     0  0  40  United-States   \n",
       "3  Machine-op-inspct    Husband  Black    Male  7688  0  40  United-States   \n",
       "4                  ?  Own-child  White  Female     0  0  30  United-States   \n",
       "\n",
       "       14  \n",
       "0  <=50K.  \n",
       "1  <=50K.  \n",
       "2   >50K.  \n",
       "3   >50K.  \n",
       "4  <=50K.  "
      ]
     },
     "execution_count": 4,
     "metadata": {},
     "output_type": "execute_result"
    }
   ],
   "source": [
    "df_test.head(5)"
   ]
  },
  {
   "cell_type": "code",
   "execution_count": 5,
   "id": "211b4238",
   "metadata": {},
   "outputs": [
    {
     "data": {
      "text/html": [
       "<div>\n",
       "<style scoped>\n",
       "    .dataframe tbody tr th:only-of-type {\n",
       "        vertical-align: middle;\n",
       "    }\n",
       "\n",
       "    .dataframe tbody tr th {\n",
       "        vertical-align: top;\n",
       "    }\n",
       "\n",
       "    .dataframe thead th {\n",
       "        text-align: right;\n",
       "    }\n",
       "</style>\n",
       "<table border=\"1\" class=\"dataframe\">\n",
       "  <thead>\n",
       "    <tr style=\"text-align: right;\">\n",
       "      <th></th>\n",
       "      <th>0</th>\n",
       "      <th>1</th>\n",
       "      <th>2</th>\n",
       "      <th>3</th>\n",
       "      <th>4</th>\n",
       "      <th>5</th>\n",
       "      <th>6</th>\n",
       "      <th>7</th>\n",
       "      <th>8</th>\n",
       "      <th>9</th>\n",
       "      <th>10</th>\n",
       "      <th>11</th>\n",
       "      <th>12</th>\n",
       "      <th>13</th>\n",
       "      <th>14</th>\n",
       "    </tr>\n",
       "  </thead>\n",
       "  <tbody>\n",
       "    <tr>\n",
       "      <th>0</th>\n",
       "      <td>39</td>\n",
       "      <td>State-gov</td>\n",
       "      <td>77516</td>\n",
       "      <td>Bachelors</td>\n",
       "      <td>13</td>\n",
       "      <td>Never-married</td>\n",
       "      <td>Adm-clerical</td>\n",
       "      <td>Not-in-family</td>\n",
       "      <td>White</td>\n",
       "      <td>Male</td>\n",
       "      <td>2174</td>\n",
       "      <td>0</td>\n",
       "      <td>40</td>\n",
       "      <td>United-States</td>\n",
       "      <td>&lt;=50K</td>\n",
       "    </tr>\n",
       "    <tr>\n",
       "      <th>1</th>\n",
       "      <td>50</td>\n",
       "      <td>Self-emp-not-inc</td>\n",
       "      <td>83311</td>\n",
       "      <td>Bachelors</td>\n",
       "      <td>13</td>\n",
       "      <td>Married-civ-spouse</td>\n",
       "      <td>Exec-managerial</td>\n",
       "      <td>Husband</td>\n",
       "      <td>White</td>\n",
       "      <td>Male</td>\n",
       "      <td>0</td>\n",
       "      <td>0</td>\n",
       "      <td>13</td>\n",
       "      <td>United-States</td>\n",
       "      <td>&lt;=50K</td>\n",
       "    </tr>\n",
       "    <tr>\n",
       "      <th>2</th>\n",
       "      <td>38</td>\n",
       "      <td>Private</td>\n",
       "      <td>215646</td>\n",
       "      <td>HS-grad</td>\n",
       "      <td>9</td>\n",
       "      <td>Divorced</td>\n",
       "      <td>Handlers-cleaners</td>\n",
       "      <td>Not-in-family</td>\n",
       "      <td>White</td>\n",
       "      <td>Male</td>\n",
       "      <td>0</td>\n",
       "      <td>0</td>\n",
       "      <td>40</td>\n",
       "      <td>United-States</td>\n",
       "      <td>&lt;=50K</td>\n",
       "    </tr>\n",
       "    <tr>\n",
       "      <th>3</th>\n",
       "      <td>53</td>\n",
       "      <td>Private</td>\n",
       "      <td>234721</td>\n",
       "      <td>11th</td>\n",
       "      <td>7</td>\n",
       "      <td>Married-civ-spouse</td>\n",
       "      <td>Handlers-cleaners</td>\n",
       "      <td>Husband</td>\n",
       "      <td>Black</td>\n",
       "      <td>Male</td>\n",
       "      <td>0</td>\n",
       "      <td>0</td>\n",
       "      <td>40</td>\n",
       "      <td>United-States</td>\n",
       "      <td>&lt;=50K</td>\n",
       "    </tr>\n",
       "    <tr>\n",
       "      <th>4</th>\n",
       "      <td>28</td>\n",
       "      <td>Private</td>\n",
       "      <td>338409</td>\n",
       "      <td>Bachelors</td>\n",
       "      <td>13</td>\n",
       "      <td>Married-civ-spouse</td>\n",
       "      <td>Prof-specialty</td>\n",
       "      <td>Wife</td>\n",
       "      <td>Black</td>\n",
       "      <td>Female</td>\n",
       "      <td>0</td>\n",
       "      <td>0</td>\n",
       "      <td>40</td>\n",
       "      <td>Cuba</td>\n",
       "      <td>&lt;=50K</td>\n",
       "    </tr>\n",
       "  </tbody>\n",
       "</table>\n",
       "</div>"
      ],
      "text/plain": [
       "   0                 1       2          3   4                   5   \\\n",
       "0  39         State-gov   77516  Bachelors  13       Never-married   \n",
       "1  50  Self-emp-not-inc   83311  Bachelors  13  Married-civ-spouse   \n",
       "2  38           Private  215646    HS-grad   9            Divorced   \n",
       "3  53           Private  234721       11th   7  Married-civ-spouse   \n",
       "4  28           Private  338409  Bachelors  13  Married-civ-spouse   \n",
       "\n",
       "                  6              7      8       9     10 11  12  \\\n",
       "0       Adm-clerical  Not-in-family  White    Male  2174  0  40   \n",
       "1    Exec-managerial        Husband  White    Male     0  0  13   \n",
       "2  Handlers-cleaners  Not-in-family  White    Male     0  0  40   \n",
       "3  Handlers-cleaners        Husband  Black    Male     0  0  40   \n",
       "4     Prof-specialty           Wife  Black  Female     0  0  40   \n",
       "\n",
       "              13     14  \n",
       "0  United-States  <=50K  \n",
       "1  United-States  <=50K  \n",
       "2  United-States  <=50K  \n",
       "3  United-States  <=50K  \n",
       "4           Cuba  <=50K  "
      ]
     },
     "execution_count": 5,
     "metadata": {},
     "output_type": "execute_result"
    }
   ],
   "source": [
    "df.head(5)"
   ]
  },
  {
   "cell_type": "code",
   "execution_count": 6,
   "id": "2f146a18",
   "metadata": {},
   "outputs": [],
   "source": [
    "df = df.rename(columns={0: \"age\", 1: \"workclass\", 2: \"fnlwgt\", 3: \"education\", 4: \"education-num\", 5: \"marital-status\", 6: \"occupation\", 7: \"relationship\", 8: \"race\", 9: \"sex\", 10: \"capital-gain\", 11: \"capital-loss\", 12: \"hours-per-week\", 13: \"native-country\", 14: \"income\"})\n",
    "df = df.dropna()"
   ]
  },
  {
   "cell_type": "code",
   "execution_count": 7,
   "id": "5c842bdf",
   "metadata": {},
   "outputs": [],
   "source": [
    "df_test = df_test.rename(columns={0: \"age\", 1: \"workclass\", 2: \"fnlwgt\", 3: \"education\", 4: \"education-num\", 5: \"marital-status\", 6: \"occupation\", 7: \"relationship\", 8: \"race\", 9: \"sex\", 10: \"capital-gain\", 11: \"capital-loss\", 12: \"hours-per-week\", 13: \"native-country\", 14: \"income\"})\n",
    "df_test = df_test.dropna()"
   ]
  },
  {
   "cell_type": "code",
   "execution_count": 8,
   "id": "baf80ccb",
   "metadata": {},
   "outputs": [],
   "source": [
    "label_workclass = ['Private', 'Self-emp-not-inc', 'Self-emp-inc', 'Federal-gov', 'Local-gov', 'State-gov', 'Without-pay', 'Never-worked']\n",
    "label_occupation = ['Tech-support', 'Craft-repair', 'Other-service', 'Sales', 'Exec-managerial', 'Prof-specialty', 'Handlers-cleaners', 'Machine-op-inspct', 'Adm-clerical', 'Farming-fishing', 'Transport-moving', 'Priv-house-serv', 'Protective-serv', 'Armed-Forces']\n",
    "label_native_country = ['United-States', 'Cambodia', 'England', 'Puerto-Rico', 'Canada', 'Germany', 'Outlying-US(Guam-USVI-etc)', 'India', 'Japan', 'Greece', 'South', 'China', 'Cuba', 'Iran', 'Honduras', 'Philippines', 'Italy', 'Poland', 'Jamaica', 'Vietnam', 'Mexico', 'Portugal', 'Ireland', 'France', 'Dominican-Republic', 'Laos', 'Ecuador', 'Taiwan', 'Haiti', 'Columbia', 'Hungary', 'Guatemala', 'Nicaragua', 'Scotland', 'Thailand', 'Yugoslavia', 'El-Salvador', 'Trinadad&Tobago', 'Peru', 'Hong', 'Holand-Netherlands']\n",
    "unknown_index = []\n",
    "unknown_index_test = []\n",
    "for i in range(len(df['workclass'])):\n",
    "    if df['workclass'][i] not in label_workclass:\n",
    "        unknown_index.append(i)\n",
    "\n",
    "for i in range(len(df['occupation'])):\n",
    "    if df['occupation'][i] not in label_occupation:\n",
    "        unknown_index.append(i)\n",
    "\n",
    "for i in range(len(df['native-country'])):\n",
    "    if df['native-country'][i] not in label_native_country:\n",
    "        unknown_index.append(i)\n",
    "        \n",
    "for i in range(len(df_test['workclass'])):\n",
    "    if df_test['workclass'][i] not in label_workclass:\n",
    "        unknown_index_test.append(i)\n",
    "        \n",
    "for i in range(len(df_test['occupation'])):\n",
    "    if df_test['occupation'][i] not in label_occupation:\n",
    "        unknown_index_test.append(i)\n",
    "        \n",
    "for i in range(len(df_test['native-country'])):\n",
    "    if df_test['native-country'][i] not in label_native_country:\n",
    "        unknown_index_test.append(i)\n",
    "df = df.drop(set(unknown_index))\n",
    "df_test = df_test.drop(set(unknown_index_test))"
   ]
  },
  {
   "cell_type": "code",
   "execution_count": 9,
   "id": "560f9f62",
   "metadata": {},
   "outputs": [],
   "source": [
    "# drop meaningless column\n",
    "df = df.drop(columns=['fnlwgt', 'capital-gain', 'capital-loss', 'native-country'])\n",
    "df_test = df_test.drop(columns=['fnlwgt', 'capital-gain', 'capital-loss', 'native-country'])"
   ]
  },
  {
   "cell_type": "code",
   "execution_count": 10,
   "id": "2655b0c2",
   "metadata": {},
   "outputs": [],
   "source": [
    "# one-hot encoding on nominal value columns\n",
    "df = pd.get_dummies(df, dtype=int, columns=['workclass', 'education', 'marital-status', 'occupation', 'relationship', 'race', 'sex'])\n",
    "df_test = pd.get_dummies(df_test, dtype=int, columns=['workclass', 'education', 'marital-status', 'occupation', 'relationship', 'race', 'sex'])"
   ]
  },
  {
   "cell_type": "code",
   "execution_count": 11,
   "id": "9afc3634",
   "metadata": {},
   "outputs": [],
   "source": [
    "# Binarization of income column\n",
    "df = df.replace({'<=50K': 0, \">50K\": 1})\n",
    "df_test = df_test.replace({'<=50K.': 0, \">50K.\": 1})"
   ]
  },
  {
   "cell_type": "code",
   "execution_count": 12,
   "id": "d0ef95fb",
   "metadata": {},
   "outputs": [],
   "source": [
    "# x = df[::].drop(columns=['income'])\n",
    "# y = df[:]['income']\n",
    "train_x, train_y = df[::].drop(columns=['hours-per-week']), df[:]['hours-per-week']\n",
    "test_x, test_y = df_test[::].drop(columns=['hours-per-week']), df_test[:]['hours-per-week']\n",
    "test_y = test_y.astype(int)\n",
    "train_y = train_y.astype(int)"
   ]
  },
  {
   "cell_type": "code",
   "execution_count": 13,
   "id": "cfa83465",
   "metadata": {},
   "outputs": [],
   "source": [
    "# feature normalization\n",
    "mean = np.mean([int(x) for x in train_y])\n",
    "std = np.std([int(x) for x in train_y])\n",
    "train_y_normalize = [(int(x) - mean) / std for x in train_y]\n",
    "\n",
    "mean = np.mean([int(x) for x in test_y])\n",
    "std = np.std([int(x) for x in test_y])\n",
    "test_y_normalize = [(int(x) - mean) / std for x in test_y]"
   ]
  },
  {
   "cell_type": "code",
   "execution_count": 19,
   "id": "8cb14b75",
   "metadata": {
    "scrolled": true
   },
   "outputs": [
    {
     "name": "stderr",
     "output_type": "stream",
     "text": [
      "C:\\Users\\Ken\\AppData\\Roaming\\Python\\Python311\\site-packages\\sklearn\\model_selection\\_split.py:737: UserWarning: The least populated class in y has only 1 members, which is less than n_splits=10.\n",
      "  warnings.warn(\n"
     ]
    },
    {
     "name": "stdout",
     "output_type": "stream",
     "text": [
      "==========KNeighborsClassifier==========\n",
      "----------Training Accuracy----------\n",
      "0.5423\n",
      "----------Test Accuracy----------\n",
      "0.3335\n",
      "----------10-fold Cross Validatoin Accuracy----------\n",
      "0.3422\n",
      "----------MAE----------\n",
      "9.111221779548472\n",
      "----------MAPE----------\n",
      "0.43792033583788037\n",
      "----------RMSE----------\n",
      "14.067681685149402\n",
      "----------Time consumption----------\n",
      "6.11 Seconds\n",
      "==========End of Performance==========\n"
     ]
    }
   ],
   "source": [
    "# KNN\n",
    "start_time = time.time()\n",
    "neigh = KNeighborsClassifier(n_neighbors=3)\n",
    "neigh.fit(train_x, train_y)\n",
    "predict_y = neigh.predict(test_x)\n",
    "scores = cross_val_score(neigh, train_x, train_y, cv=10)\n",
    "print('='*10 + \"KNeighborsClassifier\" + '='*10)\n",
    "print('-'*10 + \"Training Accuracy\" + '-'*10)\n",
    "print('%0.4f' % neigh.score(train_x, train_y))\n",
    "print('-'*10 + \"Test Accuracy\" + '-'*10)\n",
    "print('%0.4f' % neigh.score(test_x, test_y))\n",
    "print('-'*10 + \"10-fold Cross Validatoin Accuracy\" + '-'*10)\n",
    "print('%0.4f' % (scores.mean()))\n",
    "print('-'*10 + \"MAE\" + '-'*10)\n",
    "print(mean_absolute_error(test_y,predict_y))\n",
    "print('-'*10 + \"MAPE\" + '-'*10)\n",
    "print(np.mean(np.abs((predict_y - test_y) / predict_y)))\n",
    "print('-'*10 + \"RMSE\" + '-'*10)\n",
    "print(np.sqrt(metrics.mean_squared_error(test_y,predict_y)))\n",
    "print('-'*10 + 'Time consumption' + '-'*10)\n",
    "print(\"%0.4s Seconds\"%(time.time() - start_time))\n",
    "print('='*10 + \"End of Performance\" + '='*10)"
   ]
  },
  {
   "cell_type": "code",
   "execution_count": null,
   "id": "1b73c4eb",
   "metadata": {},
   "outputs": [],
   "source": [
    "from sklearn.svm import SVR\n",
    "from sklearn.pipeline import make_pipeline"
   ]
  },
  {
   "cell_type": "code",
   "execution_count": null,
   "id": "54957892",
   "metadata": {
    "scrolled": true
   },
   "outputs": [],
   "source": [
    "regr = make_pipeline(StandardScaler(), SVR(C=1.0, epsilon=0.2))\n",
    "regr.fit(train_x, train_y)"
   ]
  },
  {
   "cell_type": "code",
   "execution_count": null,
   "id": "3a95f1f5",
   "metadata": {},
   "outputs": [],
   "source": [
    "predict_y = regr.predict(test_x)\n",
    "scores = cross_val_score(regr, train_x, train_y, cv=10)"
   ]
  },
  {
   "cell_type": "code",
   "execution_count": null,
   "id": "9e29e17a",
   "metadata": {
    "scrolled": true
   },
   "outputs": [],
   "source": [
    "print('='*10 + \"SVR\" + '='*10)\n",
    "print('-'*10 + \"Training Accuracy\" + '-'*10)\n",
    "print('%0.4f' % regr.score(train_x, train_y))\n",
    "print('-'*10 + \"Test Accuracy\" + '-'*10)\n",
    "print('%0.4f' % regr.score(test_x, test_y))\n",
    "print('-'*10 + \"10-fold Cross Validatoin Accuracy\" + '-'*10)\n",
    "print('%0.4f' % (scores.mean()))\n",
    "print('-'*10 + \"MAE :\" + '-'*10)\n",
    "print(mean_absolute_error(test_y,predict_y))\n",
    "print('-'*10 + \"MAPE :\" + '-'*10)\n",
    "print(np.mean(np.abs((predict_y - test_y1) / predict_y)))\n",
    "print('-'*10 + \"RMSE\" + '-'*10)\n",
    "print(np.sqrt(metrics.mean_squared_error(test_y,predict_y)))\n",
    "print('='*10 + \"End of Performance\" + '='*10)"
   ]
  },
  {
   "cell_type": "code",
   "execution_count": 32,
   "id": "5e15ec43",
   "metadata": {},
   "outputs": [
    {
     "name": "stdout",
     "output_type": "stream",
     "text": [
      "==========SVR==========\n",
      "----------Training Accuracy----------\n",
      "0.2042\n",
      "----------Test Accuracy----------\n",
      "0.1880\n",
      "----------10-fold Cross Validatoin Accuracy----------\n",
      "0.1870\n",
      "----------MAE :----------\n",
      "6.705246199992309\n",
      "----------MAPE :----------\n",
      "0.1679625861571208\n",
      "----------RMSE----------\n",
      "10.869428407051807\n",
      "----------Time consumption----------\n",
      "498. Seconds\n",
      "==========End of Performance==========\n"
     ]
    }
   ],
   "source": [
    "start_time = time.time()\n",
    "regr = make_pipeline(StandardScaler(), SVR(C=1.0, epsilon=0.2))\n",
    "regr.fit(train_x, train_y)\n",
    "predict_y = regr.predict(test_x)\n",
    "scores = cross_val_score(regr, train_x, train_y, cv=10)\n",
    "print('='*10 + \"SVR\" + '='*10)\n",
    "print('-'*10 + \"Training Accuracy\" + '-'*10)\n",
    "print('%0.4f' % regr.score(train_x, train_y))\n",
    "print('-'*10 + \"Test Accuracy\" + '-'*10)\n",
    "print('%0.4f' % regr.score(test_x, test_y))\n",
    "print('-'*10 + \"10-fold Cross Validatoin Accuracy\" + '-'*10)\n",
    "print('%0.4f' % (scores.mean()))\n",
    "print('-'*10 + \"MAE :\" + '-'*10)\n",
    "print(mean_absolute_error(test_y,predict_y))\n",
    "print('-'*10 + \"MAPE :\" + '-'*10)\n",
    "print(np.mean(np.abs((predict_y - test_y) / predict_y)))\n",
    "print('-'*10 + \"RMSE\" + '-'*10)\n",
    "print(np.sqrt(metrics.mean_squared_error(test_y,predict_y)))\n",
    "print('-'*10 + 'Time consumption' + '-'*10)\n",
    "print(\"%0.4s Seconds\"%(time.time() - start_time))\n",
    "print('='*10 + \"End of Performance\" + '='*10)"
   ]
  },
  {
   "cell_type": "code",
   "execution_count": 22,
   "id": "cb10eaff",
   "metadata": {},
   "outputs": [
    {
     "name": "stdout",
     "output_type": "stream",
     "text": [
      "==========RandomForestregression==========\n",
      "----------Training Accuracy----------\n",
      "0.1479\n",
      "----------Test Accuracy----------\n",
      "0.1474\n",
      "----------10-fold Cross Validatoin Accuracy----------\n",
      "0.1441\n",
      "----------MAE :----------\n",
      "7.569709296887374\n",
      "----------MAPE :----------\n",
      "0.18903820301347407\n",
      "----------RMSE----------\n",
      "11.137997226483026\n",
      "----------Time consumption----------\n",
      "9.92 Seconds\n",
      "==========End of Performance==========\n"
     ]
    }
   ],
   "source": [
    "# RandomForest\n",
    "start_time = time.time()\n",
    "regr = RandomForestRegressor(max_depth=2, random_state=0)\n",
    "regr.fit(train_x, train_y)\n",
    "predict_y = regr.predict(test_x)\n",
    "scores = cross_val_score(regr, train_x, train_y, cv=10)\n",
    "print('='*10 + \"RandomForestregression\" + '='*10)\n",
    "print('-'*10 + \"Training Accuracy\" + '-'*10)\n",
    "print('%0.4f' % regr.score(train_x, train_y))\n",
    "print('-'*10 + \"Test Accuracy\" + '-'*10)\n",
    "print('%0.4f' % regr.score(test_x, test_y))\n",
    "print('-'*10 + \"10-fold Cross Validatoin Accuracy\" + '-'*10)\n",
    "print('%0.4f' % (scores.mean()))\n",
    "print('-'*10 + \"MAE :\" + '-'*10)\n",
    "print(mean_absolute_error(test_y,predict_y))\n",
    "print('-'*10 + \"MAPE :\" + '-'*10)\n",
    "print(np.mean(np.abs((predict_y - test_y) / predict_y)))\n",
    "print('-'*10 + \"RMSE\" + '-'*10)\n",
    "print(np.sqrt(metrics.mean_squared_error(test_y,predict_y)))\n",
    "print('-'*10 + 'Time consumption' + '-'*10)\n",
    "print(\"%0.4s Seconds\"%(time.time() - start_time))\n",
    "print('='*10 + \"End of Performance\" + '='*10)"
   ]
  },
  {
   "cell_type": "code",
   "execution_count": 24,
   "id": "beb1bc6d",
   "metadata": {},
   "outputs": [],
   "source": [
    "le=LabelEncoder()\n",
    "train_x2 = train_x[::]\n",
    "train_x2['education-num'] = le.fit_transform(train_x2['education-num'])\n",
    "train_x2 = train_x2[::].drop(columns=['age'])\n",
    "test_x2 = test_x[::]\n",
    "test_x2['education-num'] = le.fit_transform(test_x2['education-num'])\n",
    "test_x2 = test_x2[::].drop(columns=['age'])"
   ]
  },
  {
   "cell_type": "code",
   "execution_count": 26,
   "id": "dc4b13dc",
   "metadata": {},
   "outputs": [
    {
     "name": "stdout",
     "output_type": "stream",
     "text": [
      "==========XGBRegressor==========\n",
      "----------Training Accuracy----------\n",
      "0.3242\n",
      "----------Test Accuracy----------\n",
      "0.1870\n",
      "----------MAE :----------\n",
      "7.321632378414807\n",
      "----------MAPE :----------\n",
      "0.18550355609113056\n",
      "----------RMSE----------\n",
      "10.875971950118924\n",
      "----------Time consumption----------\n",
      "0.20 Seconds\n",
      "==========End of Performance==========\n"
     ]
    }
   ],
   "source": [
    "# XGBoost\n",
    "start_time = time.time()\n",
    "xgbrModel = XGBRegressor()\n",
    "xgbrModel.fit(train_x2, train_y)\n",
    "predict_y=xgbrModel.predict(test_x2)\n",
    "print('='*10 + \"XGBRegressor\" + '='*10)\n",
    "print('-'*10 + \"Training Accuracy\" + '-'*10)\n",
    "print('%0.4f' % xgbrModel.score(train_x2,train_y))\n",
    "print('-'*10 + \"Test Accuracy\" + '-'*10)\n",
    "print('%0.4f' % xgbrModel.score(test_x2,test_y))\n",
    "print('-'*10 + \"MAE :\" + '-'*10)\n",
    "print(mean_absolute_error(test_y,predict_y))\n",
    "print('-'*10 + \"MAPE :\" + '-'*10)\n",
    "print(np.mean(np.abs((predict_y - test_y) / predict_y)))\n",
    "print('-'*10 + \"RMSE\" + '-'*10)\n",
    "print(np.sqrt(metrics.mean_squared_error(test_y,predict_y)))\n",
    "print('-'*10 + 'Time consumption' + '-'*10)\n",
    "print(\"%0.4s Seconds\"%(time.time() - start_time))\n",
    "print('='*10 + \"End of Performance\" + '='*10)"
   ]
  },
  {
   "cell_type": "code",
   "execution_count": 27,
   "id": "d8444f51",
   "metadata": {
    "scrolled": true
   },
   "outputs": [],
   "source": [
    "impxgb=xgbrModel.feature_importances_\n",
    "importfeaturesxgr=pd.DataFrame(impxgb,columns=['featureimportant'])\n",
    "li_feature_imp = list(importfeaturesxgr[\"featureimportant\"])\n",
    "li_feature_name = list(test_x2.columns)\n",
    "feature_list = list(zip(li_feature_name, li_feature_imp))\n",
    "feature_list = sorted(feature_list, key=lambda x: x[1], reverse=True)"
   ]
  },
  {
   "cell_type": "code",
   "execution_count": 28,
   "id": "7d42650e",
   "metadata": {},
   "outputs": [
    {
     "data": {
      "image/png": "[encoded data removed]",
      "text/plain": [
       "<Figure size 640x480 with 1 Axes>"
      ]
     },
     "metadata": {},
     "output_type": "display_data"
    }
   ],
   "source": [
    "import matplotlib.pyplot as plt\n",
    "feature_list_top_10 = feature_list[:10]\n",
    "x = [x for x in range(1, len(feature_list_top_10)+1)]\n",
    "h = [x[1] for x in feature_list_top_10]\n",
    "plt.bar(x,h, tick_label=[x[0] for x in feature_list_top_10])\n",
    "plt.xticks(rotation=90)\n",
    "plt.show()"
   ]
  },
  {
   "cell_type": "code",
   "execution_count": 29,
   "id": "30e9a7ab",
   "metadata": {},
   "outputs": [
    {
     "data": {
      "text/plain": [
       "[('relationship_Own-child', 0.19255411624908447),\n",
       " ('sex_Female', 0.064119353890419),\n",
       " ('education_11th', 0.04862157627940178),\n",
       " ('occupation_Farming-fishing', 0.03556974604725838),\n",
       " ('occupation_Other-service', 0.034490250051021576),\n",
       " ('relationship_Husband', 0.03373435139656067),\n",
       " ('income', 0.0322229228913784),\n",
       " ('occupation_Exec-managerial', 0.027712076902389526),\n",
       " ('workclass_Self-emp-inc', 0.0257976483553648),\n",
       " ('education_Doctorate', 0.024347936734557152)]"
      ]
     },
     "execution_count": 29,
     "metadata": {},
     "output_type": "execute_result"
    }
   ],
   "source": [
    "feature_list_top_10"
   ]
  }
 ],
 "metadata": {
  "kernelspec": {
   "display_name": "Python 3 (ipykernel)",
   "language": "python",
   "name": "python3"
  },
  "language_info": {
   "codemirror_mode": {
    "name": "ipython",
    "version": 3
   },
   "file_extension": ".py",
   "mimetype": "text/x-python",
   "name": "python",
   "nbconvert_exporter": "python",
   "pygments_lexer": "ipython3",
   "version": "3.11.4"
  }
 },
 "nbformat": 4,
 "nbformat_minor": 5
}
